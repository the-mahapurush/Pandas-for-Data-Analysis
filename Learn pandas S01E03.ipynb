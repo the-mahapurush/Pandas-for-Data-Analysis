{
 "cells": [
  {
   "cell_type": "code",
   "execution_count": 2,
   "id": "7c8fae82",
   "metadata": {},
   "outputs": [],
   "source": [
    "import pandas as pd"
   ]
  },
  {
   "cell_type": "code",
   "execution_count": 3,
   "id": "e7c7b811",
   "metadata": {
    "scrolled": true
   },
   "outputs": [],
   "source": [
    "dataset_so=pd.read_csv('survey_results_public.csv', index_col='ResponseId') #index_col is used to make a col as default"
   ]
  },
  {
   "cell_type": "code",
   "execution_count": 4,
   "id": "c4b1c17f",
   "metadata": {},
   "outputs": [],
   "source": [
    "# Creating a small dataframe to learn then we will apply the concept on large dataset\n",
    "dict1={\n",
    " 'First Name':['Ritesh','Muggu','Alex','Rocky','Md'],\"Last Name\":['Stark','Babe','Hales','Bhai','Hales'], 'Designation':['CEO','MD','HR','SE','JE'],'Age':[25,25,27,31,34]\n",
    "}"
   ]
  },
  {
   "cell_type": "code",
   "execution_count": 5,
   "id": "0e8c7030",
   "metadata": {},
   "outputs": [],
   "source": [
    "df=pd.DataFrame(dict1)"
   ]
  },
  {
   "cell_type": "code",
   "execution_count": 6,
   "id": "fab98a98",
   "metadata": {},
   "outputs": [
    {
     "data": {
      "text/html": [
       "<div>\n",
       "<style scoped>\n",
       "    .dataframe tbody tr th:only-of-type {\n",
       "        vertical-align: middle;\n",
       "    }\n",
       "\n",
       "    .dataframe tbody tr th {\n",
       "        vertical-align: top;\n",
       "    }\n",
       "\n",
       "    .dataframe thead th {\n",
       "        text-align: right;\n",
       "    }\n",
       "</style>\n",
       "<table border=\"1\" class=\"dataframe\">\n",
       "  <thead>\n",
       "    <tr style=\"text-align: right;\">\n",
       "      <th></th>\n",
       "      <th>First Name</th>\n",
       "      <th>Last Name</th>\n",
       "      <th>Designation</th>\n",
       "      <th>Age</th>\n",
       "    </tr>\n",
       "  </thead>\n",
       "  <tbody>\n",
       "    <tr>\n",
       "      <th>0</th>\n",
       "      <td>Ritesh</td>\n",
       "      <td>Stark</td>\n",
       "      <td>CEO</td>\n",
       "      <td>25</td>\n",
       "    </tr>\n",
       "    <tr>\n",
       "      <th>1</th>\n",
       "      <td>Muggu</td>\n",
       "      <td>Babe</td>\n",
       "      <td>MD</td>\n",
       "      <td>25</td>\n",
       "    </tr>\n",
       "    <tr>\n",
       "      <th>2</th>\n",
       "      <td>Alex</td>\n",
       "      <td>Hales</td>\n",
       "      <td>HR</td>\n",
       "      <td>27</td>\n",
       "    </tr>\n",
       "    <tr>\n",
       "      <th>3</th>\n",
       "      <td>Rocky</td>\n",
       "      <td>Bhai</td>\n",
       "      <td>SE</td>\n",
       "      <td>31</td>\n",
       "    </tr>\n",
       "    <tr>\n",
       "      <th>4</th>\n",
       "      <td>Md</td>\n",
       "      <td>Hales</td>\n",
       "      <td>JE</td>\n",
       "      <td>34</td>\n",
       "    </tr>\n",
       "  </tbody>\n",
       "</table>\n",
       "</div>"
      ],
      "text/plain": [
       "  First Name Last Name Designation  Age\n",
       "0     Ritesh     Stark         CEO   25\n",
       "1      Muggu      Babe          MD   25\n",
       "2       Alex     Hales          HR   27\n",
       "3      Rocky      Bhai          SE   31\n",
       "4         Md     Hales          JE   34"
      ]
     },
     "execution_count": 6,
     "metadata": {},
     "output_type": "execute_result"
    }
   ],
   "source": [
    "df"
   ]
  },
  {
   "cell_type": "markdown",
   "id": "35008bf7",
   "metadata": {},
   "source": [
    "### Updating Rows & Columns"
   ]
  },
  {
   "cell_type": "code",
   "execution_count": 7,
   "id": "33b949dc",
   "metadata": {},
   "outputs": [
    {
     "data": {
      "text/plain": [
       "Index(['First Name', 'Last Name', 'Designation', 'Age'], dtype='object')"
      ]
     },
     "execution_count": 7,
     "metadata": {},
     "output_type": "execute_result"
    }
   ],
   "source": [
    "df.columns"
   ]
  },
  {
   "cell_type": "code",
   "execution_count": 10,
   "id": "04c6753d",
   "metadata": {},
   "outputs": [],
   "source": [
    "df.columns=['F N','L N','Post','Age']"
   ]
  },
  {
   "cell_type": "code",
   "execution_count": 11,
   "id": "bffe4186",
   "metadata": {},
   "outputs": [
    {
     "data": {
      "text/html": [
       "<div>\n",
       "<style scoped>\n",
       "    .dataframe tbody tr th:only-of-type {\n",
       "        vertical-align: middle;\n",
       "    }\n",
       "\n",
       "    .dataframe tbody tr th {\n",
       "        vertical-align: top;\n",
       "    }\n",
       "\n",
       "    .dataframe thead th {\n",
       "        text-align: right;\n",
       "    }\n",
       "</style>\n",
       "<table border=\"1\" class=\"dataframe\">\n",
       "  <thead>\n",
       "    <tr style=\"text-align: right;\">\n",
       "      <th></th>\n",
       "      <th>F N</th>\n",
       "      <th>L N</th>\n",
       "      <th>Post</th>\n",
       "      <th>Age</th>\n",
       "    </tr>\n",
       "  </thead>\n",
       "  <tbody>\n",
       "    <tr>\n",
       "      <th>0</th>\n",
       "      <td>Ritesh</td>\n",
       "      <td>Stark</td>\n",
       "      <td>CEO</td>\n",
       "      <td>25</td>\n",
       "    </tr>\n",
       "    <tr>\n",
       "      <th>1</th>\n",
       "      <td>Muggu</td>\n",
       "      <td>Babe</td>\n",
       "      <td>MD</td>\n",
       "      <td>25</td>\n",
       "    </tr>\n",
       "    <tr>\n",
       "      <th>2</th>\n",
       "      <td>Alex</td>\n",
       "      <td>Hales</td>\n",
       "      <td>HR</td>\n",
       "      <td>27</td>\n",
       "    </tr>\n",
       "    <tr>\n",
       "      <th>3</th>\n",
       "      <td>Rocky</td>\n",
       "      <td>Bhai</td>\n",
       "      <td>SE</td>\n",
       "      <td>31</td>\n",
       "    </tr>\n",
       "    <tr>\n",
       "      <th>4</th>\n",
       "      <td>Md</td>\n",
       "      <td>Hales</td>\n",
       "      <td>JE</td>\n",
       "      <td>34</td>\n",
       "    </tr>\n",
       "  </tbody>\n",
       "</table>\n",
       "</div>"
      ],
      "text/plain": [
       "      F N    L N Post  Age\n",
       "0  Ritesh  Stark  CEO   25\n",
       "1   Muggu   Babe   MD   25\n",
       "2    Alex  Hales   HR   27\n",
       "3   Rocky   Bhai   SE   31\n",
       "4      Md  Hales   JE   34"
      ]
     },
     "execution_count": 11,
     "metadata": {},
     "output_type": "execute_result"
    }
   ],
   "source": [
    "df"
   ]
  },
  {
   "cell_type": "code",
   "execution_count": 13,
   "id": "b9bd86c3",
   "metadata": {},
   "outputs": [],
   "source": [
    "#changing col names into upper case\n",
    "df.columns=[x.upper() for x in df.columns]"
   ]
  },
  {
   "cell_type": "code",
   "execution_count": 14,
   "id": "88a76369",
   "metadata": {},
   "outputs": [
    {
     "data": {
      "text/html": [
       "<div>\n",
       "<style scoped>\n",
       "    .dataframe tbody tr th:only-of-type {\n",
       "        vertical-align: middle;\n",
       "    }\n",
       "\n",
       "    .dataframe tbody tr th {\n",
       "        vertical-align: top;\n",
       "    }\n",
       "\n",
       "    .dataframe thead th {\n",
       "        text-align: right;\n",
       "    }\n",
       "</style>\n",
       "<table border=\"1\" class=\"dataframe\">\n",
       "  <thead>\n",
       "    <tr style=\"text-align: right;\">\n",
       "      <th></th>\n",
       "      <th>F N</th>\n",
       "      <th>L N</th>\n",
       "      <th>POST</th>\n",
       "      <th>AGE</th>\n",
       "    </tr>\n",
       "  </thead>\n",
       "  <tbody>\n",
       "    <tr>\n",
       "      <th>0</th>\n",
       "      <td>Ritesh</td>\n",
       "      <td>Stark</td>\n",
       "      <td>CEO</td>\n",
       "      <td>25</td>\n",
       "    </tr>\n",
       "    <tr>\n",
       "      <th>1</th>\n",
       "      <td>Muggu</td>\n",
       "      <td>Babe</td>\n",
       "      <td>MD</td>\n",
       "      <td>25</td>\n",
       "    </tr>\n",
       "    <tr>\n",
       "      <th>2</th>\n",
       "      <td>Alex</td>\n",
       "      <td>Hales</td>\n",
       "      <td>HR</td>\n",
       "      <td>27</td>\n",
       "    </tr>\n",
       "    <tr>\n",
       "      <th>3</th>\n",
       "      <td>Rocky</td>\n",
       "      <td>Bhai</td>\n",
       "      <td>SE</td>\n",
       "      <td>31</td>\n",
       "    </tr>\n",
       "    <tr>\n",
       "      <th>4</th>\n",
       "      <td>Md</td>\n",
       "      <td>Hales</td>\n",
       "      <td>JE</td>\n",
       "      <td>34</td>\n",
       "    </tr>\n",
       "  </tbody>\n",
       "</table>\n",
       "</div>"
      ],
      "text/plain": [
       "      F N    L N POST  AGE\n",
       "0  Ritesh  Stark  CEO   25\n",
       "1   Muggu   Babe   MD   25\n",
       "2    Alex  Hales   HR   27\n",
       "3   Rocky   Bhai   SE   31\n",
       "4      Md  Hales   JE   34"
      ]
     },
     "execution_count": 14,
     "metadata": {},
     "output_type": "execute_result"
    }
   ],
   "source": [
    "df"
   ]
  },
  {
   "cell_type": "code",
   "execution_count": 15,
   "id": "9493ca41",
   "metadata": {},
   "outputs": [],
   "source": [
    "#Replacing spaces with Underscore\n",
    "df.columns=df.columns.str.replace(' ','_')"
   ]
  },
  {
   "cell_type": "code",
   "execution_count": 16,
   "id": "49c22eca",
   "metadata": {},
   "outputs": [
    {
     "data": {
      "text/html": [
       "<div>\n",
       "<style scoped>\n",
       "    .dataframe tbody tr th:only-of-type {\n",
       "        vertical-align: middle;\n",
       "    }\n",
       "\n",
       "    .dataframe tbody tr th {\n",
       "        vertical-align: top;\n",
       "    }\n",
       "\n",
       "    .dataframe thead th {\n",
       "        text-align: right;\n",
       "    }\n",
       "</style>\n",
       "<table border=\"1\" class=\"dataframe\">\n",
       "  <thead>\n",
       "    <tr style=\"text-align: right;\">\n",
       "      <th></th>\n",
       "      <th>F_N</th>\n",
       "      <th>L_N</th>\n",
       "      <th>POST</th>\n",
       "      <th>AGE</th>\n",
       "    </tr>\n",
       "  </thead>\n",
       "  <tbody>\n",
       "    <tr>\n",
       "      <th>0</th>\n",
       "      <td>Ritesh</td>\n",
       "      <td>Stark</td>\n",
       "      <td>CEO</td>\n",
       "      <td>25</td>\n",
       "    </tr>\n",
       "    <tr>\n",
       "      <th>1</th>\n",
       "      <td>Muggu</td>\n",
       "      <td>Babe</td>\n",
       "      <td>MD</td>\n",
       "      <td>25</td>\n",
       "    </tr>\n",
       "    <tr>\n",
       "      <th>2</th>\n",
       "      <td>Alex</td>\n",
       "      <td>Hales</td>\n",
       "      <td>HR</td>\n",
       "      <td>27</td>\n",
       "    </tr>\n",
       "    <tr>\n",
       "      <th>3</th>\n",
       "      <td>Rocky</td>\n",
       "      <td>Bhai</td>\n",
       "      <td>SE</td>\n",
       "      <td>31</td>\n",
       "    </tr>\n",
       "    <tr>\n",
       "      <th>4</th>\n",
       "      <td>Md</td>\n",
       "      <td>Hales</td>\n",
       "      <td>JE</td>\n",
       "      <td>34</td>\n",
       "    </tr>\n",
       "  </tbody>\n",
       "</table>\n",
       "</div>"
      ],
      "text/plain": [
       "      F_N    L_N POST  AGE\n",
       "0  Ritesh  Stark  CEO   25\n",
       "1   Muggu   Babe   MD   25\n",
       "2    Alex  Hales   HR   27\n",
       "3   Rocky   Bhai   SE   31\n",
       "4      Md  Hales   JE   34"
      ]
     },
     "execution_count": 16,
     "metadata": {},
     "output_type": "execute_result"
    }
   ],
   "source": [
    "df"
   ]
  },
  {
   "cell_type": "code",
   "execution_count": 17,
   "id": "e0412991",
   "metadata": {},
   "outputs": [],
   "source": [
    "df.columns=[x.lower() for x in df.columns]"
   ]
  },
  {
   "cell_type": "code",
   "execution_count": 18,
   "id": "5a34f287",
   "metadata": {},
   "outputs": [
    {
     "data": {
      "text/html": [
       "<div>\n",
       "<style scoped>\n",
       "    .dataframe tbody tr th:only-of-type {\n",
       "        vertical-align: middle;\n",
       "    }\n",
       "\n",
       "    .dataframe tbody tr th {\n",
       "        vertical-align: top;\n",
       "    }\n",
       "\n",
       "    .dataframe thead th {\n",
       "        text-align: right;\n",
       "    }\n",
       "</style>\n",
       "<table border=\"1\" class=\"dataframe\">\n",
       "  <thead>\n",
       "    <tr style=\"text-align: right;\">\n",
       "      <th></th>\n",
       "      <th>f_n</th>\n",
       "      <th>l_n</th>\n",
       "      <th>post</th>\n",
       "      <th>age</th>\n",
       "    </tr>\n",
       "  </thead>\n",
       "  <tbody>\n",
       "    <tr>\n",
       "      <th>0</th>\n",
       "      <td>Ritesh</td>\n",
       "      <td>Stark</td>\n",
       "      <td>CEO</td>\n",
       "      <td>25</td>\n",
       "    </tr>\n",
       "    <tr>\n",
       "      <th>1</th>\n",
       "      <td>Muggu</td>\n",
       "      <td>Babe</td>\n",
       "      <td>MD</td>\n",
       "      <td>25</td>\n",
       "    </tr>\n",
       "    <tr>\n",
       "      <th>2</th>\n",
       "      <td>Alex</td>\n",
       "      <td>Hales</td>\n",
       "      <td>HR</td>\n",
       "      <td>27</td>\n",
       "    </tr>\n",
       "    <tr>\n",
       "      <th>3</th>\n",
       "      <td>Rocky</td>\n",
       "      <td>Bhai</td>\n",
       "      <td>SE</td>\n",
       "      <td>31</td>\n",
       "    </tr>\n",
       "    <tr>\n",
       "      <th>4</th>\n",
       "      <td>Md</td>\n",
       "      <td>Hales</td>\n",
       "      <td>JE</td>\n",
       "      <td>34</td>\n",
       "    </tr>\n",
       "  </tbody>\n",
       "</table>\n",
       "</div>"
      ],
      "text/plain": [
       "      f_n    l_n post  age\n",
       "0  Ritesh  Stark  CEO   25\n",
       "1   Muggu   Babe   MD   25\n",
       "2    Alex  Hales   HR   27\n",
       "3   Rocky   Bhai   SE   31\n",
       "4      Md  Hales   JE   34"
      ]
     },
     "execution_count": 18,
     "metadata": {},
     "output_type": "execute_result"
    }
   ],
   "source": [
    "df"
   ]
  },
  {
   "cell_type": "code",
   "execution_count": 20,
   "id": "1235ce86",
   "metadata": {},
   "outputs": [
    {
     "data": {
      "text/html": [
       "<div>\n",
       "<style scoped>\n",
       "    .dataframe tbody tr th:only-of-type {\n",
       "        vertical-align: middle;\n",
       "    }\n",
       "\n",
       "    .dataframe tbody tr th {\n",
       "        vertical-align: top;\n",
       "    }\n",
       "\n",
       "    .dataframe thead th {\n",
       "        text-align: right;\n",
       "    }\n",
       "</style>\n",
       "<table border=\"1\" class=\"dataframe\">\n",
       "  <thead>\n",
       "    <tr style=\"text-align: right;\">\n",
       "      <th></th>\n",
       "      <th>FirstName</th>\n",
       "      <th>LastName</th>\n",
       "      <th>post</th>\n",
       "      <th>age</th>\n",
       "    </tr>\n",
       "  </thead>\n",
       "  <tbody>\n",
       "    <tr>\n",
       "      <th>0</th>\n",
       "      <td>Ritesh</td>\n",
       "      <td>Stark</td>\n",
       "      <td>CEO</td>\n",
       "      <td>25</td>\n",
       "    </tr>\n",
       "    <tr>\n",
       "      <th>1</th>\n",
       "      <td>Muggu</td>\n",
       "      <td>Babe</td>\n",
       "      <td>MD</td>\n",
       "      <td>25</td>\n",
       "    </tr>\n",
       "    <tr>\n",
       "      <th>2</th>\n",
       "      <td>Alex</td>\n",
       "      <td>Hales</td>\n",
       "      <td>HR</td>\n",
       "      <td>27</td>\n",
       "    </tr>\n",
       "    <tr>\n",
       "      <th>3</th>\n",
       "      <td>Rocky</td>\n",
       "      <td>Bhai</td>\n",
       "      <td>SE</td>\n",
       "      <td>31</td>\n",
       "    </tr>\n",
       "    <tr>\n",
       "      <th>4</th>\n",
       "      <td>Md</td>\n",
       "      <td>Hales</td>\n",
       "      <td>JE</td>\n",
       "      <td>34</td>\n",
       "    </tr>\n",
       "  </tbody>\n",
       "</table>\n",
       "</div>"
      ],
      "text/plain": [
       "  FirstName LastName post  age\n",
       "0    Ritesh    Stark  CEO   25\n",
       "1     Muggu     Babe   MD   25\n",
       "2      Alex    Hales   HR   27\n",
       "3     Rocky     Bhai   SE   31\n",
       "4        Md    Hales   JE   34"
      ]
     },
     "execution_count": 20,
     "metadata": {},
     "output_type": "execute_result"
    }
   ],
   "source": [
    "   df.rename(columns={'f_n':'FirstName','l_n':'LastName'})"
   ]
  },
  {
   "cell_type": "code",
   "execution_count": 21,
   "id": "7dabf9ed",
   "metadata": {},
   "outputs": [
    {
     "data": {
      "text/html": [
       "<div>\n",
       "<style scoped>\n",
       "    .dataframe tbody tr th:only-of-type {\n",
       "        vertical-align: middle;\n",
       "    }\n",
       "\n",
       "    .dataframe tbody tr th {\n",
       "        vertical-align: top;\n",
       "    }\n",
       "\n",
       "    .dataframe thead th {\n",
       "        text-align: right;\n",
       "    }\n",
       "</style>\n",
       "<table border=\"1\" class=\"dataframe\">\n",
       "  <thead>\n",
       "    <tr style=\"text-align: right;\">\n",
       "      <th></th>\n",
       "      <th>f_n</th>\n",
       "      <th>l_n</th>\n",
       "      <th>post</th>\n",
       "      <th>age</th>\n",
       "    </tr>\n",
       "  </thead>\n",
       "  <tbody>\n",
       "    <tr>\n",
       "      <th>0</th>\n",
       "      <td>Ritesh</td>\n",
       "      <td>Stark</td>\n",
       "      <td>CEO</td>\n",
       "      <td>25</td>\n",
       "    </tr>\n",
       "    <tr>\n",
       "      <th>1</th>\n",
       "      <td>Muggu</td>\n",
       "      <td>Babe</td>\n",
       "      <td>MD</td>\n",
       "      <td>25</td>\n",
       "    </tr>\n",
       "    <tr>\n",
       "      <th>2</th>\n",
       "      <td>Alex</td>\n",
       "      <td>Hales</td>\n",
       "      <td>HR</td>\n",
       "      <td>27</td>\n",
       "    </tr>\n",
       "    <tr>\n",
       "      <th>3</th>\n",
       "      <td>Rocky</td>\n",
       "      <td>Bhai</td>\n",
       "      <td>SE</td>\n",
       "      <td>31</td>\n",
       "    </tr>\n",
       "    <tr>\n",
       "      <th>4</th>\n",
       "      <td>Md</td>\n",
       "      <td>Hales</td>\n",
       "      <td>JE</td>\n",
       "      <td>34</td>\n",
       "    </tr>\n",
       "  </tbody>\n",
       "</table>\n",
       "</div>"
      ],
      "text/plain": [
       "      f_n    l_n post  age\n",
       "0  Ritesh  Stark  CEO   25\n",
       "1   Muggu   Babe   MD   25\n",
       "2    Alex  Hales   HR   27\n",
       "3   Rocky   Bhai   SE   31\n",
       "4      Md  Hales   JE   34"
      ]
     },
     "execution_count": 21,
     "metadata": {},
     "output_type": "execute_result"
    }
   ],
   "source": [
    "df #changes did not occur in original"
   ]
  },
  {
   "cell_type": "code",
   "execution_count": 22,
   "id": "08cacb38",
   "metadata": {},
   "outputs": [],
   "source": [
    " df.rename(columns={'f_n':'FirstName','l_n':'LastName'}, inplace='True')"
   ]
  },
  {
   "cell_type": "code",
   "execution_count": 23,
   "id": "89c28cb3",
   "metadata": {},
   "outputs": [
    {
     "data": {
      "text/html": [
       "<div>\n",
       "<style scoped>\n",
       "    .dataframe tbody tr th:only-of-type {\n",
       "        vertical-align: middle;\n",
       "    }\n",
       "\n",
       "    .dataframe tbody tr th {\n",
       "        vertical-align: top;\n",
       "    }\n",
       "\n",
       "    .dataframe thead th {\n",
       "        text-align: right;\n",
       "    }\n",
       "</style>\n",
       "<table border=\"1\" class=\"dataframe\">\n",
       "  <thead>\n",
       "    <tr style=\"text-align: right;\">\n",
       "      <th></th>\n",
       "      <th>FirstName</th>\n",
       "      <th>LastName</th>\n",
       "      <th>post</th>\n",
       "      <th>age</th>\n",
       "    </tr>\n",
       "  </thead>\n",
       "  <tbody>\n",
       "    <tr>\n",
       "      <th>0</th>\n",
       "      <td>Ritesh</td>\n",
       "      <td>Stark</td>\n",
       "      <td>CEO</td>\n",
       "      <td>25</td>\n",
       "    </tr>\n",
       "    <tr>\n",
       "      <th>1</th>\n",
       "      <td>Muggu</td>\n",
       "      <td>Babe</td>\n",
       "      <td>MD</td>\n",
       "      <td>25</td>\n",
       "    </tr>\n",
       "    <tr>\n",
       "      <th>2</th>\n",
       "      <td>Alex</td>\n",
       "      <td>Hales</td>\n",
       "      <td>HR</td>\n",
       "      <td>27</td>\n",
       "    </tr>\n",
       "    <tr>\n",
       "      <th>3</th>\n",
       "      <td>Rocky</td>\n",
       "      <td>Bhai</td>\n",
       "      <td>SE</td>\n",
       "      <td>31</td>\n",
       "    </tr>\n",
       "    <tr>\n",
       "      <th>4</th>\n",
       "      <td>Md</td>\n",
       "      <td>Hales</td>\n",
       "      <td>JE</td>\n",
       "      <td>34</td>\n",
       "    </tr>\n",
       "  </tbody>\n",
       "</table>\n",
       "</div>"
      ],
      "text/plain": [
       "  FirstName LastName post  age\n",
       "0    Ritesh    Stark  CEO   25\n",
       "1     Muggu     Babe   MD   25\n",
       "2      Alex    Hales   HR   27\n",
       "3     Rocky     Bhai   SE   31\n",
       "4        Md    Hales   JE   34"
      ]
     },
     "execution_count": 23,
     "metadata": {},
     "output_type": "execute_result"
    }
   ],
   "source": [
    "df"
   ]
  },
  {
   "cell_type": "markdown",
   "id": "18df45a7",
   "metadata": {},
   "source": [
    " ### Changing the values"
   ]
  },
  {
   "cell_type": "code",
   "execution_count": 24,
   "id": "a4068cf9",
   "metadata": {},
   "outputs": [
    {
     "data": {
      "text/plain": [
       "FirstName     Alex\n",
       "LastName     Hales\n",
       "post            HR\n",
       "age             27\n",
       "Name: 2, dtype: object"
      ]
     },
     "execution_count": 24,
     "metadata": {},
     "output_type": "execute_result"
    }
   ],
   "source": [
    "df.loc[2]"
   ]
  },
  {
   "cell_type": "code",
   "execution_count": 25,
   "id": "6ead589d",
   "metadata": {},
   "outputs": [
    {
     "data": {
      "text/plain": [
       "post    HR\n",
       "age     27\n",
       "Name: 2, dtype: object"
      ]
     },
     "execution_count": 25,
     "metadata": {},
     "output_type": "execute_result"
    }
   ],
   "source": [
    "df.loc[2,['post','age']]"
   ]
  },
  {
   "cell_type": "code",
   "execution_count": 28,
   "id": "2077101a",
   "metadata": {},
   "outputs": [],
   "source": [
    "#updating data \n",
    "\n",
    "df.loc[2,['post','age']]=['Senior HR','28']"
   ]
  },
  {
   "cell_type": "code",
   "execution_count": 27,
   "id": "51efc683",
   "metadata": {},
   "outputs": [
    {
     "data": {
      "text/html": [
       "<div>\n",
       "<style scoped>\n",
       "    .dataframe tbody tr th:only-of-type {\n",
       "        vertical-align: middle;\n",
       "    }\n",
       "\n",
       "    .dataframe tbody tr th {\n",
       "        vertical-align: top;\n",
       "    }\n",
       "\n",
       "    .dataframe thead th {\n",
       "        text-align: right;\n",
       "    }\n",
       "</style>\n",
       "<table border=\"1\" class=\"dataframe\">\n",
       "  <thead>\n",
       "    <tr style=\"text-align: right;\">\n",
       "      <th></th>\n",
       "      <th>FirstName</th>\n",
       "      <th>LastName</th>\n",
       "      <th>post</th>\n",
       "      <th>age</th>\n",
       "    </tr>\n",
       "  </thead>\n",
       "  <tbody>\n",
       "    <tr>\n",
       "      <th>0</th>\n",
       "      <td>Ritesh</td>\n",
       "      <td>Stark</td>\n",
       "      <td>CEO</td>\n",
       "      <td>25</td>\n",
       "    </tr>\n",
       "    <tr>\n",
       "      <th>1</th>\n",
       "      <td>Muggu</td>\n",
       "      <td>Babe</td>\n",
       "      <td>MD</td>\n",
       "      <td>25</td>\n",
       "    </tr>\n",
       "    <tr>\n",
       "      <th>2</th>\n",
       "      <td>Alex</td>\n",
       "      <td>Hales</td>\n",
       "      <td>Senior HR</td>\n",
       "      <td>28</td>\n",
       "    </tr>\n",
       "    <tr>\n",
       "      <th>3</th>\n",
       "      <td>Rocky</td>\n",
       "      <td>Bhai</td>\n",
       "      <td>SE</td>\n",
       "      <td>31</td>\n",
       "    </tr>\n",
       "    <tr>\n",
       "      <th>4</th>\n",
       "      <td>Md</td>\n",
       "      <td>Hales</td>\n",
       "      <td>JE</td>\n",
       "      <td>34</td>\n",
       "    </tr>\n",
       "  </tbody>\n",
       "</table>\n",
       "</div>"
      ],
      "text/plain": [
       "  FirstName LastName       post age\n",
       "0    Ritesh    Stark        CEO  25\n",
       "1     Muggu     Babe         MD  25\n",
       "2      Alex    Hales  Senior HR  28\n",
       "3     Rocky     Bhai         SE  31\n",
       "4        Md    Hales         JE  34"
      ]
     },
     "execution_count": 27,
     "metadata": {},
     "output_type": "execute_result"
    }
   ],
   "source": [
    "df"
   ]
  },
  {
   "cell_type": "code",
   "execution_count": 32,
   "id": "793a51ce",
   "metadata": {},
   "outputs": [],
   "source": [
    "filtr=(df['FirstName']=='Md')\n",
    "df.loc[filtr,'post']='AE'"
   ]
  },
  {
   "cell_type": "code",
   "execution_count": 33,
   "id": "e5f5a737",
   "metadata": {},
   "outputs": [
    {
     "data": {
      "text/html": [
       "<div>\n",
       "<style scoped>\n",
       "    .dataframe tbody tr th:only-of-type {\n",
       "        vertical-align: middle;\n",
       "    }\n",
       "\n",
       "    .dataframe tbody tr th {\n",
       "        vertical-align: top;\n",
       "    }\n",
       "\n",
       "    .dataframe thead th {\n",
       "        text-align: right;\n",
       "    }\n",
       "</style>\n",
       "<table border=\"1\" class=\"dataframe\">\n",
       "  <thead>\n",
       "    <tr style=\"text-align: right;\">\n",
       "      <th></th>\n",
       "      <th>FirstName</th>\n",
       "      <th>LastName</th>\n",
       "      <th>post</th>\n",
       "      <th>age</th>\n",
       "    </tr>\n",
       "  </thead>\n",
       "  <tbody>\n",
       "    <tr>\n",
       "      <th>0</th>\n",
       "      <td>Ritesh</td>\n",
       "      <td>Stark</td>\n",
       "      <td>CEO</td>\n",
       "      <td>25</td>\n",
       "    </tr>\n",
       "    <tr>\n",
       "      <th>1</th>\n",
       "      <td>Muggu</td>\n",
       "      <td>Babe</td>\n",
       "      <td>MD</td>\n",
       "      <td>25</td>\n",
       "    </tr>\n",
       "    <tr>\n",
       "      <th>2</th>\n",
       "      <td>Alex</td>\n",
       "      <td>Hales</td>\n",
       "      <td>Senior HR</td>\n",
       "      <td>28</td>\n",
       "    </tr>\n",
       "    <tr>\n",
       "      <th>3</th>\n",
       "      <td>Rocky</td>\n",
       "      <td>Bhai</td>\n",
       "      <td>SE</td>\n",
       "      <td>31</td>\n",
       "    </tr>\n",
       "    <tr>\n",
       "      <th>4</th>\n",
       "      <td>Md</td>\n",
       "      <td>Hales</td>\n",
       "      <td>AE</td>\n",
       "      <td>34</td>\n",
       "    </tr>\n",
       "  </tbody>\n",
       "</table>\n",
       "</div>"
      ],
      "text/plain": [
       "  FirstName LastName       post age\n",
       "0    Ritesh    Stark        CEO  25\n",
       "1     Muggu     Babe         MD  25\n",
       "2      Alex    Hales  Senior HR  28\n",
       "3     Rocky     Bhai         SE  31\n",
       "4        Md    Hales         AE  34"
      ]
     },
     "execution_count": 33,
     "metadata": {},
     "output_type": "execute_result"
    }
   ],
   "source": [
    "df"
   ]
  },
  {
   "cell_type": "code",
   "execution_count": 37,
   "id": "50d140a4",
   "metadata": {},
   "outputs": [],
   "source": [
    "email=['RTS@mail.com','Muggas@mail.com', 'alex@mail.com','rock@mail.com','hales@mail.com']"
   ]
  },
  {
   "cell_type": "code",
   "execution_count": 38,
   "id": "9c14b01e",
   "metadata": {},
   "outputs": [],
   "source": [
    "df['Email']=email"
   ]
  },
  {
   "cell_type": "code",
   "execution_count": 39,
   "id": "605350d2",
   "metadata": {},
   "outputs": [
    {
     "data": {
      "text/html": [
       "<div>\n",
       "<style scoped>\n",
       "    .dataframe tbody tr th:only-of-type {\n",
       "        vertical-align: middle;\n",
       "    }\n",
       "\n",
       "    .dataframe tbody tr th {\n",
       "        vertical-align: top;\n",
       "    }\n",
       "\n",
       "    .dataframe thead th {\n",
       "        text-align: right;\n",
       "    }\n",
       "</style>\n",
       "<table border=\"1\" class=\"dataframe\">\n",
       "  <thead>\n",
       "    <tr style=\"text-align: right;\">\n",
       "      <th></th>\n",
       "      <th>FirstName</th>\n",
       "      <th>LastName</th>\n",
       "      <th>post</th>\n",
       "      <th>age</th>\n",
       "      <th>Email</th>\n",
       "    </tr>\n",
       "  </thead>\n",
       "  <tbody>\n",
       "    <tr>\n",
       "      <th>0</th>\n",
       "      <td>Ritesh</td>\n",
       "      <td>Stark</td>\n",
       "      <td>CEO</td>\n",
       "      <td>25</td>\n",
       "      <td>RTS@mail.com</td>\n",
       "    </tr>\n",
       "    <tr>\n",
       "      <th>1</th>\n",
       "      <td>Muggu</td>\n",
       "      <td>Babe</td>\n",
       "      <td>MD</td>\n",
       "      <td>25</td>\n",
       "      <td>Muggas@mail.com</td>\n",
       "    </tr>\n",
       "    <tr>\n",
       "      <th>2</th>\n",
       "      <td>Alex</td>\n",
       "      <td>Hales</td>\n",
       "      <td>Senior HR</td>\n",
       "      <td>28</td>\n",
       "      <td>alex@mail.com</td>\n",
       "    </tr>\n",
       "    <tr>\n",
       "      <th>3</th>\n",
       "      <td>Rocky</td>\n",
       "      <td>Bhai</td>\n",
       "      <td>SE</td>\n",
       "      <td>31</td>\n",
       "      <td>rock@mail.com</td>\n",
       "    </tr>\n",
       "    <tr>\n",
       "      <th>4</th>\n",
       "      <td>Md</td>\n",
       "      <td>Hales</td>\n",
       "      <td>AE</td>\n",
       "      <td>34</td>\n",
       "      <td>hales@mail.com</td>\n",
       "    </tr>\n",
       "  </tbody>\n",
       "</table>\n",
       "</div>"
      ],
      "text/plain": [
       "  FirstName LastName       post age            Email\n",
       "0    Ritesh    Stark        CEO  25     RTS@mail.com\n",
       "1     Muggu     Babe         MD  25  Muggas@mail.com\n",
       "2      Alex    Hales  Senior HR  28    alex@mail.com\n",
       "3     Rocky     Bhai         SE  31    rock@mail.com\n",
       "4        Md    Hales         AE  34   hales@mail.com"
      ]
     },
     "execution_count": 39,
     "metadata": {},
     "output_type": "execute_result"
    }
   ],
   "source": [
    "df"
   ]
  },
  {
   "cell_type": "markdown",
   "id": "fa91d070",
   "metadata": {},
   "source": [
    "### Updating Values"
   ]
  },
  {
   "cell_type": "code",
   "execution_count": 40,
   "id": "4e008bf2",
   "metadata": {},
   "outputs": [],
   "source": [
    "def update_email(email):\n",
    "    return email.lower()"
   ]
  },
  {
   "cell_type": "code",
   "execution_count": 44,
   "id": "b8156000",
   "metadata": {},
   "outputs": [
    {
     "data": {
      "text/plain": [
       "0       rts@mail.com\n",
       "1    muggas@mail.com\n",
       "2      alex@mail.com\n",
       "3      rock@mail.com\n",
       "4     hales@mail.com\n",
       "Name: Email, dtype: object"
      ]
     },
     "execution_count": 44,
     "metadata": {},
     "output_type": "execute_result"
    }
   ],
   "source": [
    "df['Email'].apply(update_email)"
   ]
  },
  {
   "cell_type": "code",
   "execution_count": 60,
   "id": "d575024e",
   "metadata": {},
   "outputs": [],
   "source": [
    "df['Email']=df['Email'].apply(lambda x: x.lower())"
   ]
  },
  {
   "cell_type": "code",
   "execution_count": 61,
   "id": "15eabd91",
   "metadata": {},
   "outputs": [
    {
     "data": {
      "text/html": [
       "<div>\n",
       "<style scoped>\n",
       "    .dataframe tbody tr th:only-of-type {\n",
       "        vertical-align: middle;\n",
       "    }\n",
       "\n",
       "    .dataframe tbody tr th {\n",
       "        vertical-align: top;\n",
       "    }\n",
       "\n",
       "    .dataframe thead th {\n",
       "        text-align: right;\n",
       "    }\n",
       "</style>\n",
       "<table border=\"1\" class=\"dataframe\">\n",
       "  <thead>\n",
       "    <tr style=\"text-align: right;\">\n",
       "      <th></th>\n",
       "      <th>FirstName</th>\n",
       "      <th>LastName</th>\n",
       "      <th>post</th>\n",
       "      <th>age</th>\n",
       "      <th>Email</th>\n",
       "    </tr>\n",
       "  </thead>\n",
       "  <tbody>\n",
       "    <tr>\n",
       "      <th>0</th>\n",
       "      <td>Ritesh</td>\n",
       "      <td>Stark</td>\n",
       "      <td>CEO</td>\n",
       "      <td>25</td>\n",
       "      <td>rts@mail.com</td>\n",
       "    </tr>\n",
       "    <tr>\n",
       "      <th>1</th>\n",
       "      <td>Muggu</td>\n",
       "      <td>Babe</td>\n",
       "      <td>MD</td>\n",
       "      <td>25</td>\n",
       "      <td>muggas@mail.com</td>\n",
       "    </tr>\n",
       "    <tr>\n",
       "      <th>2</th>\n",
       "      <td>Alex</td>\n",
       "      <td>Hales</td>\n",
       "      <td>Senior HR</td>\n",
       "      <td>28</td>\n",
       "      <td>alex@mail.com</td>\n",
       "    </tr>\n",
       "    <tr>\n",
       "      <th>3</th>\n",
       "      <td>Rocky</td>\n",
       "      <td>Bhai</td>\n",
       "      <td>SE</td>\n",
       "      <td>31</td>\n",
       "      <td>rock@mail.com</td>\n",
       "    </tr>\n",
       "    <tr>\n",
       "      <th>4</th>\n",
       "      <td>Md</td>\n",
       "      <td>Hales</td>\n",
       "      <td>AE</td>\n",
       "      <td>34</td>\n",
       "      <td>hales@mail.com</td>\n",
       "    </tr>\n",
       "  </tbody>\n",
       "</table>\n",
       "</div>"
      ],
      "text/plain": [
       "  FirstName LastName       post age            Email\n",
       "0    Ritesh    Stark        CEO  25     rts@mail.com\n",
       "1     Muggu     Babe         MD  25  muggas@mail.com\n",
       "2      Alex    Hales  Senior HR  28    alex@mail.com\n",
       "3     Rocky     Bhai         SE  31    rock@mail.com\n",
       "4        Md    Hales         AE  34   hales@mail.com"
      ]
     },
     "execution_count": 61,
     "metadata": {},
     "output_type": "execute_result"
    }
   ],
   "source": [
    "df"
   ]
  },
  {
   "cell_type": "code",
   "execution_count": null,
   "id": "9b9540fa",
   "metadata": {},
   "outputs": [],
   "source": []
  }
 ],
 "metadata": {
  "kernelspec": {
   "display_name": "Python 3 (ipykernel)",
   "language": "python",
   "name": "python3"
  },
  "language_info": {
   "codemirror_mode": {
    "name": "ipython",
    "version": 3
   },
   "file_extension": ".py",
   "mimetype": "text/x-python",
   "name": "python",
   "nbconvert_exporter": "python",
   "pygments_lexer": "ipython3",
   "version": "3.9.13"
  }
 },
 "nbformat": 4,
 "nbformat_minor": 5
}
